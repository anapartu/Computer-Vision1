{
 "cells": [
  {
   "cell_type": "code",
   "execution_count": 1,
   "id": "f8bd3c51",
   "metadata": {},
   "outputs": [],
   "source": [
    "import cv2 as cv\n",
    "import numpy as np\n",
    "import glob\n",
    "import os\n",
    "import imutils\n",
    "from imutils.perspective import four_point_transform\n",
    "from skimage.segmentation import clear_border"
   ]
  },
  {
   "cell_type": "code",
   "execution_count": 2,
   "id": "00eec0a3",
   "metadata": {},
   "outputs": [],
   "source": [
    "def print_img(i,img):\n",
    "    cv.imshow(str(i),img)\n",
    "    cv.waitKey(0)\n",
    "    cv.destroyAllWindows()"
   ]
  },
  {
   "cell_type": "code",
   "execution_count": 3,
   "id": "b515222e",
   "metadata": {},
   "outputs": [],
   "source": [
    "def find_sudoku(i):#returns an image of just the sudoku grid from an image containing a sudoku\n",
    "    image = cv.imread(images[i])\n",
    "    image = cv.resize(image,(0,0),fx=0.25,fy=0.25) #resize\n",
    "\n",
    "    gray = cv.cvtColor(image, cv.COLOR_BGR2GRAY) #to grayscale\n",
    "    blurred = cv.GaussianBlur(gray, (11,11), 3) #blur\n",
    "\n",
    "    #threshold to get grid\n",
    "    thresh = cv.adaptiveThreshold(blurred, 255,cv.ADAPTIVE_THRESH_GAUSSIAN_C, cv.THRESH_BINARY, 11, 2)\n",
    "    thresh = cv.bitwise_not(thresh)\n",
    "\n",
    "    # find contours in the thresholded image\n",
    "    cnts = cv.findContours(thresh.copy(), cv.RETR_EXTERNAL,cv.CHAIN_APPROX_SIMPLE)\n",
    "    cnts = imutils.grab_contours(cnts)\n",
    "    #sort by biggest contour first\n",
    "    cnts = sorted(cnts, key=cv.contourArea, reverse=True)\n",
    "    \n",
    "    sudokuCnt = None\n",
    "    for c in cnts:\n",
    "        # approximate the contour\n",
    "        peri = cv.arcLength(c, True)\n",
    "        approx = cv.approxPolyDP(c, 0.02 * peri, True)\n",
    "        # check to see if it has 4 points\n",
    "        if len(approx) == 4:\n",
    "            sudokuCnt = approx\n",
    "            break\n",
    "    \n",
    "    # apply a four point perspective transform to original image\n",
    "    #automaticaly sorts points\n",
    "    sudoku = four_point_transform(image, sudokuCnt.reshape(4, 2))\n",
    "    return sudoku\n"
   ]
  },
  {
   "cell_type": "code",
   "execution_count": 4,
   "id": "2cd210e6",
   "metadata": {},
   "outputs": [],
   "source": [
    "def check_digit(cell):\n",
    "    # clear borders\n",
    "    thresh = cv.threshold(cell, 0, 255,cv.THRESH_BINARY_INV | cv.THRESH_OTSU)[1]\n",
    "    thresh = clear_border(thresh)\n",
    "    \n",
    "    # find contours in the thresholded cell\n",
    "    cnts = cv.findContours(thresh.copy(), cv.RETR_EXTERNAL,cv.CHAIN_APPROX_SIMPLE)\n",
    "    cnts = imutils.grab_contours(cnts)\n",
    "    # if no contours were found than this is an empty cell\n",
    "    if len(cnts) == 0:\n",
    "        return None\n",
    "    \n",
    "    \n",
    "    # mask to check for digit\n",
    "    c = max(cnts, key=cv.contourArea)\n",
    "    mask = np.zeros(thresh.shape, dtype=\"uint8\")\n",
    "    cv.drawContours(mask, [c], -1, 255, -1)   \n",
    "    \n",
    "    # less than 2% of the mask is filled => the cell is empty\n",
    "    (h, w) = thresh.shape\n",
    "    percentFilled = cv.countNonZero(mask) / float(w * h)\n",
    "    \n",
    "    if percentFilled < 0.02:\n",
    "        return None\n",
    "    return 1"
   ]
  },
  {
   "cell_type": "code",
   "execution_count": 5,
   "id": "a520cd85",
   "metadata": {},
   "outputs": [],
   "source": [
    "def answer(k,f):\n",
    "    img = find_sudoku(k)\n",
    "    print_img('a', img)\n",
    "    gray = cv.cvtColor(img, cv.COLOR_BGR2GRAY)\n",
    "    h,w=gray.shape\n",
    "    #the sizes of a cell\n",
    "    h_step = int(h/9)\n",
    "    w_step = int(w/9)\n",
    "    #go through grid and check if cell is empty\n",
    "    for i in range(9):\n",
    "        for j in range(9):\n",
    "            crop=gray[i*h_step:(i+1)*h_step,j*w_step:(j+1)*w_step] \n",
    "            if check_digit(crop) is None:\n",
    "                f.write('o')\n",
    "            else:\n",
    "                f.write('x')\n",
    "        if i<8:\n",
    "            f.write('\\n')\n",
    "    f.close()"
   ]
  },
  {
   "cell_type": "code",
   "execution_count": 6,
   "id": "ee9673a6",
   "metadata": {},
   "outputs": [],
   "source": [
    "base_folder = \"test\\\\classic\\\\\" #change to \"test\\\\classic\\\\\" for test images\n",
    "output_folder = \"evaluation\\\\submission_files\\\\Partu_Ana_Maria_407\\\\classic\\\\\"\n",
    "images = glob.glob(os.path.join(base_folder,'*.jpg'))\n",
    "\n",
    "for i in range(50):\n",
    "    with open(output_folder+images[i][13:-4]+\"_predicted.txt\",\"w\") as f:\n",
    "        try:\n",
    "            answer(i,f)\n",
    "        except:\n",
    "            pass"
   ]
  },
  {
   "cell_type": "code",
   "execution_count": null,
   "id": "1c671759",
   "metadata": {},
   "outputs": [],
   "source": []
  }
 ],
 "metadata": {
  "kernelspec": {
   "display_name": "Python 3",
   "language": "python",
   "name": "python3"
  },
  "language_info": {
   "codemirror_mode": {
    "name": "ipython",
    "version": 3
   },
   "file_extension": ".py",
   "mimetype": "text/x-python",
   "name": "python",
   "nbconvert_exporter": "python",
   "pygments_lexer": "ipython3",
   "version": "3.8.5"
  }
 },
 "nbformat": 4,
 "nbformat_minor": 5
}
